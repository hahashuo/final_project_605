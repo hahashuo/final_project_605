{
 "cells": [
  {
   "cell_type": "code",
   "execution_count": 1,
   "id": "c4f590cb",
   "metadata": {},
   "outputs": [],
   "source": [
    "import numpy as np\n",
    "from numpy.linalg import norm\n",
    "def dott1(a,b):\n",
    "    ka = dict([m, int(x)] for m, x in a.items())\n",
    "    kb = dict([m, int(x)] for m, x in b.items())\n",
    "    ma1 = {}\n",
    "    ma2 = {}\n",
    "    maxx = max(max(ka.values()), max(kb.values()))\n",
    "    for word in ka:\n",
    "        if word in kb:\n",
    "            ma1[word] = ka[word]\n",
    "            ma2[word] = kb[word]\n",
    "        else:\n",
    "            ma1[word] = 2*maxx\n",
    "            ma2[word] = 0\n",
    "    k1 = list(ma1.values())\n",
    "    k2 = list(ma2.values())\n",
    "    result = np.dot(k1, k2)/(norm(k1)*norm(k2))\n",
    "    if np.isnan(result):\n",
    "        return 0\n",
    "    else:\n",
    "        return(result)\n",
    "\n",
    "\n",
    "def dott(a,b):\n",
    "    return max(dott1(a,b), dott1(b,a)) \n",
    "\n",
    "def compare(a,b):\n",
    "    ka = dict([m, int(x)] for m, x in a.items())\n",
    "    kb = dict([m, int(x)] for m, x in b.items())\n",
    "    if sum(kb.values()) > sum(ka.values()):\n",
    "        return 1\n",
    "    else:\n",
    "        return 0\n",
    "    \n",
    "def find(a, sett):\n",
    "    for i, settt in enumerate(sett):\n",
    "        if a in settt:\n",
    "            return i\n",
    "    return -1"
   ]
  },
  {
   "cell_type": "code",
   "execution_count": 2,
   "id": "95ef3507",
   "metadata": {},
   "outputs": [],
   "source": [
    "def add_edge(setttt):\n",
    "    subset = set()\n",
    "    result_set = set()\n",
    "    result_node = []\n",
    "    for i, settt in enumerate(setttt):\n",
    "#        print(type(settt))\n",
    "        if -1 not in settt:\n",
    "            subset.add(i)\n",
    "            if len(settt) == 1:\n",
    "                result_node.append(file_list[i][8:-25])\n",
    "            else:\n",
    "                for item in nodee(settt, i):\n",
    "                    result_set.add(item)\n",
    "    #for item in roundd(subset):\n",
    "        #result_set.add(item)\n",
    "    return result_set, result_node\n",
    "    \n",
    "def nodee(settt, i):\n",
    "    result = set()\n",
    "    for item in settt:\n",
    "        if item != i:\n",
    "            result.add((file_list[i][8:-25], file_list[item][8:-25]))\n",
    "    return result\n",
    "\n",
    "def nodee1(settt, i):\n",
    "    matrix1 = []\n",
    "    lset = list(settt)\n",
    "    for jj in lset:\n",
    "        matrix1.append([])\n",
    "        for j in lset:\n",
    "            matrix1[-1].append(1/(max(dott(m[jj], m[j]),0.001)))\n",
    "    matrixsum = []\n",
    "    for iii, item in enumerate(matrix1):\n",
    "        matrixsum.append(np.log(sum(item))*(sum(dict([m, int(x)] for m, x in dic[file_list[lset[iii]][8:-25]].items()).values()))**2)\n",
    "    ii = lset[matrixsum.index(min(matrixsum))]\n",
    "    result = set()\n",
    "    for item in settt:\n",
    "        if item != ii:\n",
    "            result.add((file_list[ii][8:-25], file_list[item][8:-25]))\n",
    "    return result\n",
    "\n",
    "def roundd(settt):\n",
    "    lset = list(settt)\n",
    "    result = set()\n",
    "    for i in range(len(settt)-1):\n",
    "        result.add((file_list[lset[i]][8:-25], file_list[lset[i+1]][8:-25]))\n",
    "    print(result)\n",
    "    return result"
   ]
  },
  {
   "cell_type": "code",
   "execution_count": 3,
   "id": "b4d886fe",
   "metadata": {},
   "outputs": [
    {
     "data": {
      "text/plain": [
       "2"
      ]
     },
     "execution_count": 3,
     "metadata": {},
     "output_type": "execute_result"
    }
   ],
   "source": [
    "l = [1,2,3,4]\n",
    "l.index(3)"
   ]
  },
  {
   "cell_type": "code",
   "execution_count": 4,
   "id": "b388646e",
   "metadata": {
    "scrolled": false
   },
   "outputs": [
    {
     "name": "stderr",
     "output_type": "stream",
     "text": [
      "C:\\Users\\25900\\AppData\\Local\\Temp/ipykernel_7556/348422049.py:18: RuntimeWarning: invalid value encountered in true_divide\n",
      "  result = np.dot(k1, k2)/(norm(k1)*norm(k2))\n"
     ]
    }
   ],
   "source": [
    "import csv\n",
    "import os\n",
    "\n",
    "file_list = os.listdir('clean_CSVs')\n",
    "num = len(file_list)\n",
    "group = round(np.sqrt(2*num))\n",
    "m = []\n",
    "dic = {}\n",
    "for filename in file_list:\n",
    "    with open(os.path.join(os.getcwd(), 'final_project_605-main\\\\clean_CSVs', filename), mode='r') as infile:\n",
    "        reader = csv.reader(infile)\n",
    "        next(reader)\n",
    "        m.append({rows[0]:rows[1] for rows in csv.reader(infile)})\n",
    "        dic[filename[8:-25]]=m[-1]\n",
    "\n",
    "matrix = []\n",
    "for i in range(len(m)):\n",
    "    matrix.append([])\n",
    "    for j in range(len(m)):\n",
    "        matrix[-1].append(1/(max(dott(m[i], m[j]),0.001)))"
   ]
  },
  {
   "cell_type": "code",
   "execution_count": 5,
   "id": "bcdcf22a",
   "metadata": {},
   "outputs": [
    {
     "name": "stdout",
     "output_type": "stream",
     "text": [
      "[{0}, {1}, {2}, {3}, {4}, {5}, {6}, {7}, {8}, {9}, {10}, {11}, {12}, {13}, {14}, {15}, {16}, {17}, {18}, {19}, {20}, {21}, {22}, {23}, {24}, {25}, {26}, {27}, {28}, {29}, {30}, {31}, {32}, {33}, {34}, {35}, {36}, {37}, {38}, {39}, {40}, {41}, {42}, {43}, {44}, {45}, {46}, {47}, {48}, {49}, {50}, {51}, {52}, {53}, {54}, {55}, {56}, {57}, {58}, {59}, {60}, {61}, {62}, {63}, {64}, {65}, {66}]\n",
      "[{-1}, {64, 1, 3, 10, 44, 26, 59}, {-1}, {-1}, {-1}, {2, 4, 5, 7, 8, 13, 16, 17, 18, 19, 21, 23, 27, 28, 29, 30, 31, 35, 45, 46, 48, 52, 53, 57, 58, 66}, {-1}, {-1}, {-1}, {-1}, {-1}, {-1}, {-1}, {-1}, {-1}, {15}, {-1}, {-1}, {-1}, {-1}, {-1}, {-1}, {-1}, {-1}, {24}, {25}, {-1}, {-1}, {-1}, {-1}, {-1}, {-1}, {-1}, {-1}, {0, 6, 9, 12, 14, 20, 22, 32, 34, 36, 39, 40, 42, 43, 49, 51, 60, 61, 62}, {-1}, {-1}, {-1}, {38}, {-1}, {-1}, {41}, {-1}, {-1}, {-1}, {-1}, {-1}, {54, 47}, {-1}, {-1}, {33, 50}, {-1}, {-1}, {-1}, {-1}, {55}, {-1}, {-1}, {-1}, {-1}, {-1}, {-1}, {-1}, {65, 37, 11, 56, 63}, {-1}, {-1}, {-1}]\n"
     ]
    }
   ],
   "source": [
    "sett = []\n",
    "\n",
    "for i in range(num):\n",
    "    set1 = {i}\n",
    "    sett.append(set1)\n",
    "print(sett)\n",
    "a = np.mat(matrix)\n",
    "for i in range(len(a)):\n",
    "    a[i,i] = 1e+99\n",
    "\n",
    "set1 = {-1}\n",
    "for times in range(num - group):\n",
    "    k = []\n",
    "    ki = []\n",
    "#    print('npwhere ',np.where(a == a.min())[1])\n",
    "    if len(np.where(a == a.min())[1])>2:\n",
    "        break\n",
    "    for i in np.where(a == a.min())[1]:\n",
    "        k.append(m[i])\n",
    "        ki.append(i)\n",
    "    i = compare(k[0], k[1])\n",
    "#    print(\"ki\", ki)\n",
    "    a[:,ki[1-i]] = 1e+99\n",
    "    a[ki[1-i],:] = 1e+99\n",
    "    fa = find(ki[1-i],sett)\n",
    "    fb = find(ki[i], sett)\n",
    "#    a = np.delete(a, ki[compare(k[0], k[1])], 0)\n",
    "#    a = np.delete(a, ki[compare(k[0], k[1])], 1)\n",
    "#    print('i = ',i)\n",
    "#    print(\"item = \",sett[fa])\n",
    "    for item in sett[fa]:\n",
    "        sett[fb].add(item)\n",
    "#    print(i)\n",
    "#    print(fa)\n",
    "    sett[fa] = set1\n",
    "#    print(sett)\n",
    "\n",
    "print(sett)\n"
   ]
  },
  {
   "cell_type": "code",
   "execution_count": 6,
   "id": "3a74b601",
   "metadata": {},
   "outputs": [],
   "source": [
    "import networkx as nx\n",
    "from pylab import rcParams\n",
    "import matplotlib\n",
    "matplotlib.use(\"Agg\")\n",
    "import matplotlib.pyplot as plt\n",
    "\n",
    "result_set, nodee = add_edge(sett)\n",
    "    \n",
    "#result_set = {('name1', 'job1'), ('name2', 'job2'), ('name3', 'job3'), ('name4', 'job4'), ('name5', 'job5'), ('name6', 'job6'), ('name7', 'job7'), ('name8', 'job8'), ('name9', 'job3'), ('name10', 'job6'), ('name11', 'job3'), ('name12', 'job1'), ('name13', 'job5'), ('name14', 'job9'), ('name15', 'job10'), ('name16', 'job6'), ('name17', 'job7'), ('name18', 'job11'), ('name19', 'job12'), ('name20', 'job13'), ('name21', 'job7'), ('name22', 'job14'), ('name23', 'job15'), ('name24', 'job7'), ('name25', 'job14'), ('name26', 'job9'), ('name27', 'job3'), ('name28', 'job16'), ('name29', 'job16'), ('name30', 'job1'), ('name31', 'job10'), ('name32', 'job9'), ('name33', 'job12'), ('name34', 'job5'), ('name35', 'job7'), ('name36', 'job3'), ('name37', 'job17'), ('name38', 'job3'), ('name39', 'job18'), ('name40', 'job16 / job3'), ('name41', 'Il Foglio'), ('name42', 'job7'), ('name43', 'job19'), ('name44', 'job9'), ('name45', 'job20'), ('name46', 'job18'), ('name47', 'job21')}\n",
    "G = nx.Graph()\n",
    "for node_tuple in result_set:\n",
    "        G.add_edges_from(result_set) # edited after comment\n",
    "for nodeee in nodee:\n",
    "        G.add_nodes_from(nodee) # edited after comment\n",
    "\n",
    "rcParams['figure.figsize'] = 14, 10\n",
    "pos = nx.spring_layout(G, scale=20, k=3.3/np.sqrt(G.order()))\n",
    "d = dict(G.degree)\n",
    "f = plt.figure()\n",
    "nx.draw(G, pos, node_color='lightblue', \n",
    "        with_labels=True, \n",
    "        nodelist=d, \n",
    "        node_size=[max(400, 1.4*np.sqrt(sum(dict([m, int(x)] for m, x in dic[k].items()).values()))) for k in d])\n",
    "f.savefig(\"graph.png\")"
   ]
  }
 ],
 "metadata": {
  "kernelspec": {
   "display_name": "Python 3 (ipykernel)",
   "language": "python",
   "name": "python3"
  },
  "language_info": {
   "codemirror_mode": {
    "name": "ipython",
    "version": 3
   },
   "file_extension": ".py",
   "mimetype": "text/x-python",
   "name": "python",
   "nbconvert_exporter": "python",
   "pygments_lexer": "ipython3",
   "version": "3.9.7"
  }
 },
 "nbformat": 4,
 "nbformat_minor": 5
}
